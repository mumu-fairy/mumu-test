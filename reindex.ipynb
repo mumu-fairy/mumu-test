{
 "cells": [
  {
   "cell_type": "code",
   "execution_count": 1,
   "id": "9d3196c2-7698-4c29-a5d7-2faa2390dd5f",
   "metadata": {
    "ExecutionIndicator": {
     "show": true
    },
    "execution": {
     "iopub.execute_input": "2024-06-15T17:46:18.816413Z",
     "iopub.status.busy": "2024-06-15T17:46:18.816021Z",
     "iopub.status.idle": "2024-06-15T17:46:18.830332Z",
     "shell.execute_reply": "2024-06-15T17:46:18.829843Z",
     "shell.execute_reply.started": "2024-06-15T17:46:18.816380Z"
    },
    "tags": []
   },
   "outputs": [],
   "source": [
    "%load_ext autoreload\n",
    "%autoreload 2\n",
    "\n",
    "import os, sys\n",
    "\n",
    "os.environ['HF_ENDPOINT']='https://hf-mirror.com'"
   ]
  },
  {
   "cell_type": "code",
   "execution_count": 2,
   "id": "eaf1a701-f2bd-4b2c-9d42-46e7c3475673",
   "metadata": {
    "ExecutionIndicator": {
     "show": true
    },
    "execution": {
     "iopub.execute_input": "2024-06-15T17:46:20.209262Z",
     "iopub.status.busy": "2024-06-15T17:46:20.208832Z",
     "iopub.status.idle": "2024-06-15T17:46:24.907260Z",
     "shell.execute_reply": "2024-06-15T17:46:24.906678Z",
     "shell.execute_reply.started": "2024-06-15T17:46:20.209236Z"
    },
    "tags": []
   },
   "outputs": [
    {
     "name": "stderr",
     "output_type": "stream",
     "text": [
      "/usr/local/lib/python3.10/site-packages/tqdm/auto.py:21: TqdmWarning: IProgress not found. Please update jupyter and ipywidgets. See https://ipywidgets.readthedocs.io/en/stable/user_install.html\n",
      "  from .autonotebook import tqdm as notebook_tqdm\n"
     ]
    },
    {
     "data": {
      "text/plain": [
       "{'COLLECTION_NAME': 'aiops24_large',\n",
       " 'VECTOR_SIZE': 768,\n",
       " 'GLM_KEY': 'ba7d0d7930f621b8f9d2036deb55207a.En856p5uJTTXbxQv'}"
      ]
     },
     "execution_count": 2,
     "metadata": {},
     "output_type": "execute_result"
    }
   ],
   "source": [
    "# import asyncio\n",
    "\n",
    "from dotenv import dotenv_values\n",
    "from llama_index.core import Settings\n",
    "from llama_index.embeddings.huggingface import HuggingFaceEmbedding\n",
    "from llama_index.legacy.llms import OpenAILike as OpenAI\n",
    "from qdrant_client import models\n",
    "from tqdm.asyncio import tqdm\n",
    "\n",
    "from pipeline.ingestion import build_pipeline, build_vector_store, read_data\n",
    "from pipeline.qa import read_jsonl, save_answers\n",
    "from pipeline.rag import QdrantRetriever, generation_with_knowledge_retrieval\n",
    "\n",
    "\n",
    "\n",
    "\n",
    "config = dotenv_values(\".env\")\n",
    "config = {'COLLECTION_NAME': 'aiops24_large',\n",
    "          'VECTOR_SIZE': 768,\n",
    "          'GLM_KEY': 'ba7d0d7930f621b8f9d2036deb55207a.En856p5uJTTXbxQv'\n",
    "}\n",
    "config"
   ]
  },
  {
   "cell_type": "code",
   "execution_count": 3,
   "id": "c4915293-0a2c-4850-a9bb-c3eb84b3a255",
   "metadata": {
    "ExecutionIndicator": {
     "show": true
    },
    "execution": {
     "iopub.execute_input": "2024-06-15T17:46:33.476337Z",
     "iopub.status.busy": "2024-06-15T17:46:33.475858Z",
     "iopub.status.idle": "2024-06-15T17:46:36.610062Z",
     "shell.execute_reply": "2024-06-15T17:46:36.609532Z",
     "shell.execute_reply.started": "2024-06-15T17:46:33.476317Z"
    },
    "tags": []
   },
   "outputs": [
    {
     "name": "stdout",
     "output_type": "stream",
     "text": [
      "status=<CollectionStatus.GREEN: 'green'> optimizer_status=<OptimizersStatusOneOf.OK: 'ok'> vectors_count=0 indexed_vectors_count=0 points_count=0 segments_count=1 config=CollectionConfig(params=CollectionParams(vectors=VectorParams(size=768, distance=<Distance.DOT: 'Dot'>, hnsw_config=None, quantization_config=None, on_disk=None), shard_number=None, sharding_method=None, replication_factor=None, write_consistency_factor=None, read_fan_out_factor=None, on_disk_payload=None, sparse_vectors=None), hnsw_config=HnswConfig(m=16, ef_construct=100, full_scan_threshold=10000, max_indexing_threads=0, on_disk=None, payload_m=None), optimizer_config=OptimizersConfig(deleted_threshold=0.2, vacuum_min_vector_number=1000, default_segment_number=0, max_segment_size=None, memmap_threshold=None, indexing_threshold=20000, flush_interval_sec=5, max_optimization_threads=1), wal_config=WalConfig(wal_capacity_mb=32, wal_segments_ahead=0), quantization_config=None) payload_schema={}\n",
      "0\n"
     ]
    }
   ],
   "source": [
    "# 初始化 LLM 嵌入模型 和 Reranker\n",
    "llm = OpenAI(\n",
    "    api_key=config[\"GLM_KEY\"],\n",
    "    model=\"glm-4\",\n",
    "    api_base=\"https://open.bigmodel.cn/api/paas/v4/\",\n",
    "    is_chat_model=True,\n",
    ")\n",
    "embeding = HuggingFaceEmbedding(\n",
    "    # model_name=\"BAAI/bge-big-zh-v1.5\",\n",
    "    model_name=\"./models--BAAI--bge-base-zh-v1.5/snapshots/f03589ceff5aac7111bd60cfc7d497ca17ecac65\",\n",
    "    cache_folder=\"./\",\n",
    "    embed_batch_size=128,\n",
    ")\n",
    "Settings.embed_model = embeding\n",
    "\n",
    "# 初始化 数据ingestion pipeline 和 vector store\n",
    "client, vector_store = await build_vector_store(config, reindex=False)\n",
    "\n",
    "collection_info = await client.get_collection(\n",
    "    config[\"COLLECTION_NAME\"] or \"aiops24_large\"\n",
    ")\n",
    "\n",
    "print(collection_info)\n",
    "\n",
    "print(collection_info.points_count)\n",
    "\n"
   ]
  },
  {
   "cell_type": "code",
   "execution_count": 4,
   "id": "17b7c1b9-c9c8-44a3-88ed-a0cf6e2352ac",
   "metadata": {
    "execution": {
     "iopub.execute_input": "2024-06-15T17:46:36.611503Z",
     "iopub.status.busy": "2024-06-15T17:46:36.611097Z",
     "iopub.status.idle": "2024-06-15T17:55:45.989221Z",
     "shell.execute_reply": "2024-06-15T17:55:45.988586Z",
     "shell.execute_reply.started": "2024-06-15T17:46:36.611485Z"
    },
    "tags": []
   },
   "outputs": [
    {
     "name": "stderr",
     "output_type": "stream",
     "text": [
      "Parsing nodes: 100%|██████████| 42139/42139 [00:16<00:00, 2492.31it/s] \n",
      "Generating embeddings: 100%|██████████| 244/244 [06:43<00:00,  1.65s/it]  \n"
     ]
    },
    {
     "name": "stdout",
     "output_type": "stream",
     "text": [
      "42139\n"
     ]
    }
   ],
   "source": [
    "if collection_info.points_count == 0:\n",
    "    data = read_data(\"data\")\n",
    "    pipeline = build_pipeline(llm, embeding, vector_store=vector_store)\n",
    "    # 暂时停止实时索引\n",
    "    await client.update_collection(\n",
    "        collection_name=config[\"COLLECTION_NAME\"] or \"aiops24\",\n",
    "        optimizer_config=models.OptimizersConfigDiff(indexing_threshold=0),\n",
    "    )\n",
    "    await pipeline.arun(documents=data, show_progress=True, num_workers=1)\n",
    "    # 恢复实时索引\n",
    "    await client.update_collection(\n",
    "        collection_name=config[\"COLLECTION_NAME\"] or \"aiops24\",\n",
    "        optimizer_config=models.OptimizersConfigDiff(indexing_threshold=20000),\n",
    "    )\n",
    "    print(len(data))\n"
   ]
  },
  {
   "cell_type": "code",
   "execution_count": 7,
   "id": "6eb6c985-d872-45a0-8463-4c8f7055be7f",
   "metadata": {
    "ExecutionIndicator": {
     "show": true
    },
    "execution": {
     "iopub.execute_input": "2024-06-15T18:03:42.705828Z",
     "iopub.status.busy": "2024-06-15T18:03:42.705479Z",
     "iopub.status.idle": "2024-06-15T18:03:54.865579Z",
     "shell.execute_reply": "2024-06-15T18:03:54.864820Z",
     "shell.execute_reply.started": "2024-06-15T18:03:42.705808Z"
    },
    "tags": []
   },
   "outputs": [
    {
     "name": "stdout",
     "output_type": "stream",
     "text": [
      "{'id': 1, 'query': 'PCF与NRF对接时，一般需要配置哪些数据？', 'document': 'rcp'} {'umac', 'rcp'}\n",
      "{'id': 2, 'query': 'ZXUN RCP部署成功后，各个虚机个数都是最少个数，是否可以一次性扩容完成？有哪些注意事项？', 'document': 'rcp'} {'umac', 'emsplus'}\n",
      "{'id': 3, 'query': '如何排查PCF侧建立专载失败，发起Rx-ASR释放问题？', 'document': 'rcp'} {'umac', 'rcp'}\n",
      "{'id': 4, 'query': 'Npcf_SMPolicyControl服务包含哪些操作？', 'document': 'rcp'} {'umac', 'rcp'}\n",
      "{'id': 8, 'query': 'RCP在IaaS架构下有哪些GSU虚机？', 'document': 'rcp'} {'umac'}\n",
      "{'id': 9, 'query': 'RCP如何将VoNR呼叫的Rx会话绑定到对应的N7会话？', 'document': 'rcp'} {'umac', 'rcp'}\n",
      "{'id': 11, 'query': '发布虚机时最多可以为虚机分配几块网卡？', 'document': 'director'} {'umac', 'emsplus', 'director'}\n",
      "{'id': 12, 'query': '虚拟资源包括哪些种类', 'document': 'director'} {'umac', 'director'}\n",
      "{'id': 13, 'query': '物理机通用场景纳管1500台主机需要哪种部署规模、几个节点？', 'document': 'director'} {'emsplus', 'director'}\n",
      "{'id': 16, 'query': '发布镜像时，镜像源支持哪几种方式？', 'document': 'director'} {'umac', 'director'}\n",
      "{'id': 17, 'query': 'Director告警南向设置是在哪个界面上', 'document': 'director'} {'umac', 'director'}\n",
      "{'id': 24, 'query': 'PCF哪些服务被AMF调用？', 'document': 'rcp'} {'umac'}\n",
      "{'id': 25, 'query': 'Director性能数据最长可以保存多久？', 'document': 'director'} {'rcp', 'director'}\n",
      "{'id': 26, 'query': 'PCF作为服务端时，AMF和SMF一般根据什么发现PCF', 'document': 'rcp'} {'umac'}\n",
      "{'id': 27, 'query': '硬件资源包括哪些种类', 'document': 'director'} {'rcp', 'director'}\n",
      "{'id': 28, 'query': 'PCF与SMF对接时，一般需要配置哪些数据？', 'document': 'rcp'} {'umac', 'rcp'}\n",
      "{'id': 30, 'query': 'Daisyseed安装软件从哪里获取', 'document': 'director'} {'rcp', 'director'}\n",
      "{'id': 32, 'query': 'PCC规则的Precedence用途是什么？', 'document': 'rcp'} {'umac', 'rcp'}\n",
      "{'id': 34, 'query': '如何登录Director的容灾管理界面？', 'document': 'director'} {'rcp', 'director'}\n",
      "{'id': 35, 'query': '如何选择合适的信令跟踪', 'document': 'rcp'} {'umac'}\n",
      "{'id': 36, 'query': '外部系统想要采集Director的性能数据，可以怎么解决？', 'document': 'director'} {'umac'}\n",
      "{'id': 37, 'query': 'N7会话的ResourceURI由哪个网元在哪个消息中生成', 'document': 'rcp'} {'umac', 'rcp'}\n",
      "{'id': 39, 'query': 'SSH登录Director节点之前需要准备些什么', 'document': 'director'} {'rcp', 'director'}\n",
      "{'id': 40, 'query': '模板中内部网络的VIP和地址池填写是要注意什么', 'document': 'director'} {'rcp', 'director'}\n",
      "{'id': 42, 'query': 'PCF使用同一个版本，在同一个环境下部署的多套PCF网元，是否可以使用同一个license申请文件申请？', 'document': 'rcp'} {'rcp', 'director'}\n",
      "{'id': 45, 'query': 'PCF通过Nnrf接口完成什么功能？', 'document': 'rcp'} {'umac', 'rcp'}\n",
      "{'id': 46, 'query': '命令行部署失败后，如果要断点续装，执行什么命令？', 'document': 'director'} {'rcp', 'emsplus', 'director'}\n",
      "{'id': 47, 'query': '中移报表功能中，哪些日志是需要SPR提供的？', 'document': 'rcp'} {'emsplus', 'rcp'}\n",
      "{'id': 49, 'query': 'N7接口的IMSI、MSISDN、IMEISV分别在哪个参数中传递', 'document': 'rcp'} {'umac'}\n",
      "{'id': 52, 'query': '告警无法处理或无法恢复一般该怎么办？', 'document': 'umac'} {'umac', 'director'}\n",
      "{'id': 53, 'query': '故障来源有哪些？', 'document': 'emsplus'} {'umac', 'emsplus'}\n",
      "{'id': 57, 'query': 'NFS是能够独立完成某个具体功能的软件实体，NFS包括那几类', 'document': 'umac'} {'umac', 'rcp'}\n",
      "{'id': 58, 'query': 'Dump功能中输出的文件中包含的用户信息有哪些内容', 'document': 'umac'} {'umac', 'rcp'}\n",
      "{'id': 61, 'query': '处理故障需要遵循哪些操作思路？', 'document': 'umac'} {'umac', 'director'}\n",
      "{'id': 64, 'query': '如何实现对MU指定需要存储的字段数据', 'document': 'emsplus'} {'umac'}\n",
      "{'id': 65, 'query': '如何查看虚机的内存占用？', 'document': 'emsplus'} {'emsplus', 'rcp', 'director'}\n",
      "{'id': 66, 'query': '怎么调整通用查询结果中列的顺序', 'document': 'emsplus'} {'umac', 'emsplus'}\n",
      "{'id': 73, 'query': '故障类别有哪些？', 'document': 'emsplus'} {'umac', 'emsplus'}\n",
      "{'id': 74, 'query': 'AMF网元的采集方式有哪几种？', 'document': 'umac'} {'umac', 'emsplus'}\n",
      "{'id': 75, 'query': 'License文件过期影响业务怎么办？', 'document': 'emsplus'} {'umac'}\n",
      "{'id': 77, 'query': '不同类型的SC间是如何发现彼此的？', 'document': 'umac'} {'rcp'}\n",
      "{'id': 80, 'query': '开启全量日志上报需要开启license项是哪个？', 'document': 'umac'} {'rcp', 'director'}\n",
      "{'id': 82, 'query': 'CPU使用率过高的影响有哪些？', 'document': 'emsplus'} {'umac', 'emsplus', 'director'}\n",
      "{'id': 83, 'query': '安装前的准备工作有哪些？', 'document': 'umac'} {'umac', 'emsplus'}\n",
      "{'id': 84, 'query': '怎么查看是否有用户尝试执行未授权的命令？', 'document': 'emsplus'} {'umac', 'emsplus'}\n",
      "{'id': 91, 'query': '如何创建定时任务？', 'document': 'emsplus'} {'umac', 'emsplus'}\n",
      "{'id': 101, 'query': '如何查询指定用户详单？', 'document': 'emsplus'} {'rcp', 'director'}\n",
      "{'id': 102, 'query': '业务告警分哪几种？', 'document': 'umac'} {'umac', 'director'}\n"
     ]
    },
    {
     "data": {
      "text/plain": [
       "(91, 48)"
      ]
     },
     "execution_count": 7,
     "metadata": {},
     "output_type": "execute_result"
    }
   ],
   "source": [
    "from llama_index.core import QueryBundle\n",
    "    \n",
    "\n",
    "def find_cate(node):\n",
    "    cates = set()\n",
    "    for k, v in node.relationships.items():\n",
    "        if 'file_path' in v.metadata:\n",
    "            fp = v.metadata['file_path']\n",
    "            cate = fp.replace('/mnt/workspace/aiops24-RAG-demo/demo/data/', '').split('/')[0]\n",
    "            # print(cate)\n",
    "            cates.add(cate)\n",
    "    # print(cates)\n",
    "    return list(cates)\n",
    "\n",
    "hit = 0\n",
    "nsame = 0\n",
    "for query in queries:\n",
    "    \n",
    "    qd = query['document']\n",
    "    query_str = query['query']\n",
    "    query_bundle = QueryBundle(query_str=query_str)\n",
    "    node_with_scores = await retriever.aretrieve(query_bundle)\n",
    "    rds = set()\n",
    "    for n in node_with_scores:\n",
    "        ds = find_cate(n.node)\n",
    "        for d in ds:\n",
    "            rds.add(d)\n",
    "    \n",
    "    if qd in rds:\n",
    "        hit += 1\n",
    "    \n",
    "    if qd != ','.join(rds):\n",
    "        print(query, rds)\n",
    "        nsame += 1\n",
    "    \n",
    "hit, nsame"
   ]
  },
  {
   "cell_type": "code",
   "execution_count": 12,
   "id": "d744b3a7-9cb3-4187-bd2c-43d5a4f666d6",
   "metadata": {
    "ExecutionIndicator": {
     "show": true
    },
    "execution": {
     "iopub.execute_input": "2024-06-15T18:09:54.080475Z",
     "iopub.status.busy": "2024-06-15T18:09:54.080152Z",
     "iopub.status.idle": "2024-06-15T18:09:54.221527Z",
     "shell.execute_reply": "2024-06-15T18:09:54.220825Z",
     "shell.execute_reply.started": "2024-06-15T18:09:54.080457Z"
    },
    "tags": []
   },
   "outputs": [
    {
     "name": "stdout",
     "output_type": "stream",
     "text": [
      "    上下文信息如下：\n",
      "    ----------\n",
      "    {context_str}\n",
      "    ----------\n",
      "    请你首选基于上下文信息而不是自己的知识，回答以下问题，可以分点作答，如果上下文信息没有相关知识，但你确实知道比较准确的答案，可以基于自己的知识进行回答，不要解释上下文中是否有，也不要复述上下文信息，尽量直接回答问题：\n",
      "    {query_str}\n",
      "\n",
      "    回答：    \n",
      "103\n",
      "Start generating answers...\n",
      "{'id': 18, 'query': 'RCP包含哪些数据存储类服务？', 'document': 'rcp'}\n",
      "retrieved:\n",
      "[rcp]:# 服务处理能力配置\n",
      "[rcp]:# 数据分析基础配置\n",
      "[rcp]:# 专业维护\n",
      "[rcp]:# 系统能力配置\n",
      "[umac]:RCP\n",
      "[NodeWithScore(node=TextNode(id_='12d2dc49-fa3b-47a9-8d52-98b2f9796598', embedding=None, metadata={'file_path': 'Npcf_PolicyManagement/zh-CN/tree/N_17870806.txt', 'file_name': 'N_17870806.txt', 'file_type': 'text/plain', 'file_size': 1261, 'creation_date': '2024-06-15', 'last_modified_date': '2024-03-12', 'document_title': '# 服务处理能力配置'}, excluded_embed_metadata_keys=['file_name', 'file_type', 'file_size', 'creation_date', 'last_modified_date', 'last_accessed_date'], excluded_llm_metadata_keys=['file_name', 'file_type', 'file_size', 'creation_date', 'last_modified_date', 'last_accessed_date'], relationships={<NodeRelationship.SOURCE: '1'>: RelatedNodeInfo(node_id='b9120791-a3ff-4e14-b635-b3ccd4d37315', node_type=<ObjectType.DOCUMENT: '4'>, metadata={'file_path': '/mnt/workspace/aiops24-RAG-demo/demo/data/rcp/Npcf_PolicyManagement/zh-CN/tree/N_17870806.txt', 'file_name': 'N_17870806.txt', 'file_type': 'text/plain', 'file_size': 1261, 'creation_date': '2024-06-15', 'last_modified_date': '2024-03-12'}, hash='d56a9061b043f43a790f1ab5a684c85a1f3ed2f15a59892cc7cde8536443ee17'), <NodeRelationship.PREVIOUS: '2'>: RelatedNodeInfo(node_id='7aad3089-4d42-4613-bf57-00b697d84845', node_type=<ObjectType.TEXT: '1'>, metadata={'file_path': '/mnt/workspace/aiops24-RAG-demo/demo/data/rcp/Npcf_PolicyManagement/zh-CN/tree/N_17870805.txt', 'file_name': 'N_17870805.txt', 'file_type': 'text/plain', 'file_size': 1118, 'creation_date': '2024-06-15', 'last_modified_date': '2024-03-12'}, hash='5ac69608f94da529eda7d0a370082be0afec49afac93bffce6368400968e6c19'), <NodeRelationship.NEXT: '3'>: RelatedNodeInfo(node_id='bea6d5a5-281b-4ad1-8e3b-e32da0796a01', node_type=<ObjectType.TEXT: '1'>, metadata={}, hash='398205f15ab524021c35ee145978b0cb1cdd6eb9865e8fa85e92ce4fa7a6d1fe')}, text='# 服务处理能力配置\\n\\n## 背景知识\\n\\nRCP网元必须配置服务处理能力。处理能力就是：\\n\\n  * 通过配置每个服务实例支持的时段数据区容量、日志数据区容量，系统会给该计算相应数据对应的允许最大容量。\\n  * 通过配置每个服务实例支持的业务事务数、短信数据区容量等，系统会给该服务实例分配相应数据对应的内存。\\n\\n\\n\\n这样可以有效、合理的使用系统内存、运算能力等。配置处理能力可以保证系统在一个限定范围内运行，不会因为大量的用户上线等操作造成单板重启等异常。\\n\\n## 功能描述\\n\\n本配置用于修改及查询服务处理能力配置的相关命令及配置参数说明。\\n\\n当新开局或运营商需要修改服务处理能力时，执行此配置。 配置执行成功后，系统重新给服务实例分配内存或者计算允许的最大容量，服务的处理能力发生改变。RCP处理业务时，会受到新的处理能力的限制。如果不配置服务处理能力，业务所有的消息将处理失败。\\n\\n该配置默认有一条记录，且最多一条记录。\\n\\n## 相关主题\\n\\n  * **SET MODULECAP**  \\n\\n  * **SHOW MODULECAP**  \\n\\n\\n\\n\\n**父主题：** 高级数据配置', start_char_idx=0, end_char_idx=492, text_template='[Excerpt from document]\\n{metadata_str}\\nExcerpt:\\n-----\\n{content}\\n-----\\n', metadata_template='{key}: {value}', metadata_seperator='\\n'), score=0.6063421500996742), NodeWithScore(node=TextNode(id_='5a1f779f-1928-470e-b65b-516628468087', embedding=None, metadata={'file_path': 'Npcf_PolicyManagement/zh-CN/tree/N_1787241.txt', 'file_name': 'N_1787241.txt', 'file_type': 'text/plain', 'file_size': 1088, 'creation_date': '2024-06-15', 'last_modified_date': '2024-03-12', 'document_title': '# 数据分析基础配置'}, excluded_embed_metadata_keys=['file_name', 'file_type', 'file_size', 'creation_date', 'last_modified_date', 'last_accessed_date'], excluded_llm_metadata_keys=['file_name', 'file_type', 'file_size', 'creation_date', 'last_modified_date', 'last_accessed_date'], relationships={<NodeRelationship.SOURCE: '1'>: RelatedNodeInfo(node_id='515f9ae3-fc5e-4bcc-b29d-75308a287f2b', node_type=<ObjectType.DOCUMENT: '4'>, metadata={'file_path': '/mnt/workspace/aiops24-RAG-demo/demo/data/rcp/Npcf_PolicyManagement/zh-CN/tree/N_1787241.txt', 'file_name': 'N_1787241.txt', 'file_type': 'text/plain', 'file_size': 1088, 'creation_date': '2024-06-15', 'last_modified_date': '2024-03-12'}, hash='959fe4cf19865ce9fb3ff0c9f595175683d9c760a34f3091c73b8b23e0a3233a'), <NodeRelationship.PREVIOUS: '2'>: RelatedNodeInfo(node_id='f0d47937-1418-4c61-921b-9263eaf34b92', node_type=<ObjectType.TEXT: '1'>, metadata={'file_path': '/mnt/workspace/aiops24-RAG-demo/demo/data/rcp/Npcf_PolicyManagement/zh-CN/tree/N_178724.txt', 'file_name': 'N_178724.txt', 'file_type': 'text/plain', 'file_size': 246, 'creation_date': '2024-06-15', 'last_modified_date': '2024-03-12'}, hash='226df58528846e41d8d5a0db8dc34cf036d0b3c74ab5f2792b3464b4554f3a08'), <NodeRelationship.NEXT: '3'>: RelatedNodeInfo(node_id='67b80640-d9dc-4c8a-903b-d198efe19853', node_type=<ObjectType.TEXT: '1'>, metadata={}, hash='00aab809cb9857264e4080f4ea0c38ddc1d4053c77af616c048606e0ff4e4fc1')}, text='# 数据分析基础配置\\n\\n## 背景知识\\n\\nRCP可根据用户在协议接口（Reference Point）的信令消息和具体场景配置感知到用户发生的策略事件，且事件发生时，RCP支持实时记录相关信息。可提供给运营商结合现网网络数据进行运营分析，从而优化业务部署，提升运营效率。\\n\\nRCP支持数据分析功能，能够将采集到的数据保存到数据库中，并进一步对数据进行分析。\\n\\n## 功能描述\\n\\n该命令用于修改数据分析的基本参数，包括是否启用数据分析功能、数据保存的周期、数据库的密码、统计信息推送周期等。\\n\\n当需要修改数据分析基础配置，如打开或者关闭数据分析功能开关、设置SPR局向号时，需要执行该命令。如果不配置，则使用系统默认配置。\\n\\n执行成功之后，包括数据分析功能开关、数据库老化时间点、文件保存周期在内的数据分析基本参数会被修改。\\n\\n## 相关主题\\n\\n  * **SET DABASE**  \\n\\n  * **SHOW DABASE**  \\n\\n\\n\\n\\n**父主题：** 数据分析配置', start_char_idx=0, end_char_idx=435, text_template='[Excerpt from document]\\n{metadata_str}\\nExcerpt:\\n-----\\n{content}\\n-----\\n', metadata_template='{key}: {value}', metadata_seperator='\\n'), score=0.6061785757653855), NodeWithScore(node=TextNode(id_='c959b8ff-1c94-4cbe-b0e2-03ed0fcf82cc', embedding=None, metadata={'file_path': 'Npcf_SystemManagement/zh-cn/tree/2.txt', 'file_name': '2.txt', 'file_type': 'text/plain', 'file_size': 382, 'creation_date': '2024-06-15', 'last_modified_date': '2024-03-12', 'document_title': '# 专业维护'}, excluded_embed_metadata_keys=['file_name', 'file_type', 'file_size', 'creation_date', 'last_modified_date', 'last_accessed_date'], excluded_llm_metadata_keys=['file_name', 'file_type', 'file_size', 'creation_date', 'last_modified_date', 'last_accessed_date'], relationships={<NodeRelationship.SOURCE: '1'>: RelatedNodeInfo(node_id='1541d491-38cd-446e-8a39-01cd78228372', node_type=<ObjectType.DOCUMENT: '4'>, metadata={'file_path': '/mnt/workspace/aiops24-RAG-demo/demo/data/rcp/Npcf_SystemManagement/zh-cn/tree/2.txt', 'file_name': '2.txt', 'file_type': 'text/plain', 'file_size': 382, 'creation_date': '2024-06-15', 'last_modified_date': '2024-03-12'}, hash='2649b9b34a8bb0db67f678b05e1aef738d78a609bf9bc7cc03270cae9ec89373'), <NodeRelationship.PREVIOUS: '2'>: RelatedNodeInfo(node_id='a4a21ec5-ba51-41f2-8d5a-cfe842a8132e', node_type=<ObjectType.TEXT: '1'>, metadata={'file_path': '/mnt/workspace/aiops24-RAG-demo/demo/data/rcp/Npcf_SystemManagement/zh-cn/tree/101.txt', 'file_name': '101.txt', 'file_type': 'text/plain', 'file_size': 326, 'creation_date': '2024-06-15', 'last_modified_date': '2024-03-12'}, hash='c76c7f311bcfd7a9de73be228e4bde83dc8267f7a2915c469d6586df3dfc096c'), <NodeRelationship.NEXT: '3'>: RelatedNodeInfo(node_id='9f500229-6361-4c98-9809-7d8841c94dae', node_type=<ObjectType.TEXT: '1'>, metadata={}, hash='555d8b543d10e419cc08e461aa215384e9757fbd5a2153a1760018e06880b954')}, text='# 专业维护\\n\\n## 背景知识\\n\\n为了方便对服务进行管理，RCP提供了专业维护功能。\\n\\n## 功能说明\\n\\nRCP提供专业维护方面的命令，包括内部统计查询，服务注册管理，容灾管理，CHR日志管理等命令。\\n\\n运维人员可以通过这些维护命令对当前服务进行相应功能操作。\\n\\n## 子主题：\\n\\n  * Diameter信息管理', start_char_idx=0, end_char_idx=157, text_template='[Excerpt from document]\\n{metadata_str}\\nExcerpt:\\n-----\\n{content}\\n-----\\n', metadata_template='{key}: {value}', metadata_seperator='\\n'), score=0.5987772792591137), NodeWithScore(node=TextNode(id_='7aad3089-4d42-4613-bf57-00b697d84845', embedding=None, metadata={'file_path': 'Npcf_PolicyManagement/zh-CN/tree/N_17870805.txt', 'file_name': 'N_17870805.txt', 'file_type': 'text/plain', 'file_size': 1118, 'creation_date': '2024-06-15', 'last_modified_date': '2024-03-12', 'document_title': '# 系统能力配置'}, excluded_embed_metadata_keys=['file_name', 'file_type', 'file_size', 'creation_date', 'last_modified_date', 'last_accessed_date'], excluded_llm_metadata_keys=['file_name', 'file_type', 'file_size', 'creation_date', 'last_modified_date', 'last_accessed_date'], relationships={<NodeRelationship.SOURCE: '1'>: RelatedNodeInfo(node_id='bb654ee3-7427-4f61-8f73-112ab766d51d', node_type=<ObjectType.DOCUMENT: '4'>, metadata={'file_path': '/mnt/workspace/aiops24-RAG-demo/demo/data/rcp/Npcf_PolicyManagement/zh-CN/tree/N_17870805.txt', 'file_name': 'N_17870805.txt', 'file_type': 'text/plain', 'file_size': 1118, 'creation_date': '2024-06-15', 'last_modified_date': '2024-03-12'}, hash='eebf63ef41629ff65107e6f2e2036b3867652c0335a4bc8062909ba4fb2e616b'), <NodeRelationship.PREVIOUS: '2'>: RelatedNodeInfo(node_id='1e339a76-77df-4cc8-8d4e-49888bf66f32', node_type=<ObjectType.TEXT: '1'>, metadata={'file_path': '/mnt/workspace/aiops24-RAG-demo/demo/data/rcp/Npcf_PolicyManagement/zh-CN/tree/N_17870804.txt', 'file_name': 'N_17870804.txt', 'file_type': 'text/plain', 'file_size': 371, 'creation_date': '2024-06-15', 'last_modified_date': '2024-03-12'}, hash='9acdead11d1400d2eeae76dcf528d3aea8ba5f6efa6d75c749e4c879cd869324'), <NodeRelationship.NEXT: '3'>: RelatedNodeInfo(node_id='12d2dc49-fa3b-47a9-8d52-98b2f9796598', node_type=<ObjectType.TEXT: '1'>, metadata={}, hash='e62477115cba6faa2aaca63bd506736330700d83580e9abe1467b092c856840d')}, text='# 系统能力配置\\n\\n## 背景知识\\n\\nRCP网元必须配置服务处理能力，确定系统支持的在线用户数，以及用户与业务、用户与会话、会话与承载之间的比例关系。\\n\\n系统根据配置的比例关系计算系统允许的最大容量、分配内存。\\n\\n这样可以有效、合理的使用系统内存、运算能力等。配置处理能力可以保证系统在一个限定范围内运行，不会因为大量的用户上线等操作造成服务重启等异常。\\n\\n## 功能描述\\n\\n本配置用于修改及查询系统能力配置的相关命令及配置参数说明。\\n\\n当新开局或运营商需要修改系统处理能力时，执行此配置。 配置执行成功后，系统重新给服务实例分配内存或者计算允许的最大容量，系统的处理能力发生改变。RCP处理业务时，会受到新的处理能力的限制。如果不配置系统处理能力，业务所有的消息将处理失败。\\n\\n该配置默认有一条记录，且最多一条记录。\\n\\n## 相关主题\\n\\n  * **SET SYSCAP**  \\n\\n  * **SHOW SYSCAP**  \\n\\n\\n\\n\\n**父主题：** 高级数据配置', start_char_idx=0, end_char_idx=433, text_template='[Excerpt from document]\\n{metadata_str}\\nExcerpt:\\n-----\\n{content}\\n-----\\n', metadata_template='{key}: {value}', metadata_seperator='\\n'), score=0.5864063974016664), NodeWithScore(node=TextNode(id_='be84981a-10b9-41c1-bdc2-2a05f7a4e345', embedding=None, metadata={'file_path': 'umac/拓扑管理/glossary/g-0000084561.txt', 'file_name': 'g-0000084561.txt', 'file_type': 'text/plain', 'file_size': 4, 'creation_date': '2024-06-15', 'last_modified_date': '2024-05-11', 'document_title': 'RCP'}, excluded_embed_metadata_keys=['file_name', 'file_type', 'file_size', 'creation_date', 'last_modified_date', 'last_accessed_date'], excluded_llm_metadata_keys=['file_name', 'file_type', 'file_size', 'creation_date', 'last_modified_date', 'last_accessed_date'], relationships={<NodeRelationship.SOURCE: '1'>: RelatedNodeInfo(node_id='aa88761a-1ae8-44fa-a4ed-bb97152bc1b1', node_type=<ObjectType.DOCUMENT: '4'>, metadata={'file_path': '/mnt/workspace/aiops24-RAG-demo/demo/data/umac/拓扑管理/glossary/g-0000084561.txt', 'file_name': 'g-0000084561.txt', 'file_type': 'text/plain', 'file_size': 4, 'creation_date': '2024-06-15', 'last_modified_date': '2024-05-11'}, hash='678060a91534fdadcfe67da9fe812d426d30cd3d4b729c8b08ba591050e08512'), <NodeRelationship.PREVIOUS: '2'>: RelatedNodeInfo(node_id='1ebaffeb-bd62-4d94-b948-fb45f3e63293', node_type=<ObjectType.TEXT: '1'>, metadata={'file_path': '/mnt/workspace/aiops24-RAG-demo/demo/data/umac/拓扑管理/Pool.txt', 'file_name': 'Pool.txt', 'file_type': 'text/plain', 'file_size': 1818, 'creation_date': '2024-06-15', 'last_modified_date': '2024-05-11'}, hash='f9ed0f512721e0ec931ef24c95f93be92df0752cc7d385d8733afdbc188bf590'), <NodeRelationship.NEXT: '3'>: RelatedNodeInfo(node_id='3c613d6b-7496-4921-87ac-613e890830d5', node_type=<ObjectType.TEXT: '1'>, metadata={}, hash='6a6b7f59b81f77a1a43cfc6d29012a798f472ee2f1051786af5c61040cf4b31e')}, text='RCP', start_char_idx=0, end_char_idx=3, text_template='[Excerpt from document]\\n{metadata_str}\\nExcerpt:\\n-----\\n{content}\\n-----\\n', metadata_template='{key}: {value}', metadata_seperator='\\n'), score=0.5816434830427801)]\n",
      "------\n"
     ]
    }
   ],
   "source": [
    "\n",
    "from custom.template import QA_TEMPLATE, QA_TEMPLATE_2\n",
    "\n",
    "print(QA_TEMPLATE_2)\n",
    "\n",
    "\n",
    "retriever = QdrantRetriever(vector_store, embeding, similarity_top_k=5)\n",
    "\n",
    "queries = read_jsonl(\"question.jsonl\")\n",
    "\n",
    "print(len(queries))\n",
    "\n",
    "qid = [18]\n",
    "# qid = [8, 9, 14, 17, 18, 20, 21, 23, 37, 72, 74, 92]\n",
    "\n",
    "# 生成答案\n",
    "print(\"Start generating answers...\")\n",
    "\n",
    "results = []\n",
    "for query in queries:\n",
    "    if query['id'] not in qid:\n",
    "        continue\n",
    "    print(query)\n",
    "    result = await generation_with_knowledge_retrieval(\n",
    "        query[\"query\"], retriever, llm, qa_template=QA_TEMPLATE_2, \n",
    "        debug=True,\n",
    "        only_retrieval=True,\n",
    "    )\n",
    "    results.append(result)\n",
    "    \n"
   ]
  },
  {
   "cell_type": "code",
   "execution_count": 10,
   "id": "263594f0-2b7d-483d-b5bd-b1af6f26a2e1",
   "metadata": {
    "execution": {
     "iopub.execute_input": "2024-06-15T18:07:05.925291Z",
     "iopub.status.busy": "2024-06-15T18:07:05.924968Z",
     "iopub.status.idle": "2024-06-15T18:07:05.961314Z",
     "shell.execute_reply": "2024-06-15T18:07:05.960748Z",
     "shell.execute_reply.started": "2024-06-15T18:07:05.925273Z"
    }
   },
   "outputs": [
    {
     "name": "stdout",
     "output_type": "stream",
     "text": [
      "RCP在IaaS架构下的GSU虚机为GSU-Common-M4C2规格，具体配置为2 vCPU/4G RAM/30G HD。其他详细信息未在上下文中提供。\n",
      "-------------\n",
      "RCP（Policy and Charging Rules Function）在将VoNR呼叫的Rx会话绑定到对应的N7会话的过程中，主要通过以下方式实现：\n",
      "\n",
      "1. **会话授权时长配置**：在RCP策略管理GUI配置中，可以为N7会话控制策略设置“授权时长”参数值，这决定了会话的重授权时间点。\n",
      "\n",
      "2. **接口类型和DNN类型的区分**：RCP可以区分会话所在的接口类型（N7）和DNN类型（IMS），针对不同的类型可以分别设置会话授权时长。\n",
      "\n",
      "3. **生成随机偏移值**：在会话建立时，RCP在“会话授权时长最大随机偏移”范围内生成一个“随机偏移值”，这个值将会加到会话授权时长配置值上，形成实际的会话授权时长默认值。\n",
      "\n",
      "4. **会话绑定**：通过上述配置，当Rx会话建立时，RCP会将这个会话与对应的N7会话绑定，确保两者使用相同的会话授权时长。\n",
      "\n",
      "5. **会话重授权时间点传递**：RCP将计算出的会话重授权时间点通过N7接口的revalidationTime参数传递给SMF（Session Management Function），或者通过Gx接口的Revalidation-Time参数传递给PGW（Packet Data Network Gateway），从而实现Rx会话与N7会话的绑定。\n",
      "\n",
      "请注意，上述流程是基于上下文信息中提供的配置和管理方法推断的，实际操作中可能还需要考虑其他因素和协议细节。\n",
      "-------------\n",
      "在EPS回落流程中，根据提供的上下文信息，PCF向SBC上报用户位置的次数及使用的事件没有直接提及。但是，根据上下文信息中PCF支持下发给SMF的默认事件列表中包括“用户位置信息改变”，可以推测在EPS回落流程中，如果用户位置发生变化，PCF可能会通过这个事件至少上报一次用户位置信息给SBC。\n",
      "\n",
      "具体次数和事件可能如下：\n",
      "1. 当用户位置发生变化时，PCF可能会使用“用户位置信息改变”事件向SBC上报一次用户位置。\n",
      "\n",
      "请注意，这只是一个基于上下文信息的推测，实际情况可能更复杂，并可能涉及其他事件或上报次数。\n",
      "-------------\n",
      "Director告警南向设置是在“告警SNMPV3设置”页签上进行配置的。具体路径为：在TECS Director顶部菜单栏中选择更多→系统管理→系统设置，然后在左侧导航树中选择系统设置→南向设置，接着切换至告警SNMPV3设置页签。\n",
      "-------------\n",
      "RCP包含的数据存储类服务主要有以下几种：\n",
      "\n",
      "1. 时段数据区容量：用于配置服务实例支持的时段数据区的最大容量。\n",
      "2. 日志数据区容量：用于配置服务实例支持的日志数据区的最大容量。\n",
      "3. 短信数据区容量：用于配置服务实例支持的短信数据区的最大容量。\n",
      "\n",
      "这些服务涉及到数据的存储与管理，是RCP系统中重要的组成部分。此外，RCP还支持将采集到的数据保存到数据库中，进一步对数据进行分析。\n",
      "-------------\n",
      "Director接收南向告警的SNMP端口号通常是162，这是SNMP Trap消息使用的默认端口号。\n",
      "-------------\n",
      "RCP实现语音会话隔离的方式主要通过对会话控制策略的配置和管理来实现。以下是具体的实现方法：\n",
      "\n",
      "1. 通过N7/Gx接口的会话控制策略，设置“授权时长”参数，确保不同的语音会话之间的重授权时间点不同，从而实现会话隔离。\n",
      "\n",
      "2. 在RCP策略管理GUI配置中，可以区分会话所在的接口类型（N7/Gx）和会话所在的DNN类型（IMS/Data），分别设置会话授权时长默认值，进一步保证不同类型的语音会话隔离。\n",
      "\n",
      "3. 使用“SET MULTISESSAUDIT”命令配置多会话审计的初次保活间隔时长、重试间隔、重试次数以及例外失败码，帮助RCP在管理多个会话时，能够针对特定会话进行有效隔离。\n",
      "\n",
      "4. 通过“SET DM RULE”命令，在满足条件表达式的情况下，RCP可以拒绝接入Rx接口会话，从而在接入层实现会话隔离。\n",
      "\n",
      "5. 应用不同的业务控制策略，如业务预下发控制策略、承载控制策略、黑白名单策略等，针对不同的语音会话进行个性化管理，进一步强化会话隔离。\n",
      "\n",
      "通过上述方法，RCP能够有效地实现语音会话隔离，确保网络资源的高效利用和用户语音体验的稳定性。\n",
      "-------------\n",
      "RCP和SPR之间主要有以下接口：\n",
      "\n",
      "1. 签约和用量接口：用于RCP向SPR获取用户（组）的签约信息和用量信息。\n",
      "   - 签约信息交互：RCP可以获取用户的签约信息。\n",
      "   - 用量信息交互：RCP可以与SPR交互用户的用量信息。\n",
      "\n",
      "2. 自动开通功能接口：用于指定RCP和SPR交互时是否携带自动开通所需参数。\n",
      "   - 开启自动开通功能：RCP向SPR携带自动开通所需参数。\n",
      "   - 关闭自动开通功能：RCP不向SPR携带自动开通所需参数。\n",
      "\n",
      "这些接口通过配置不同的参数（如ACTMODE和AUTOPROVSWITCH）来实现不同的功能交互模式。\n",
      "-------------\n",
      "N7会话的ResourceURI由PCF在UPDATE_SESSION命令中生成。不过，具体在哪个消息中生成，上下文信息中并没有明确说明。通常情况下，这个ResourceURI会在与SMF的通信中，由PCF指定，作为会话更新流程的一部分。\n",
      "-------------\n",
      "EMSPlus出现告警后的处理办法包括：\n",
      "\n",
      "1. 查看告警详情和处理建议：维护人员可以查看告警的详细信息及处理意见，对告警进行定位。\n",
      "\n",
      "2. 确认/反确认告警：确认告警表示维护人员已获知告警信息并开始处理；如果确认操作有误，可以使用反确认功能恢复告警状态到未确认。\n",
      "\n",
      "3. 导出告警信息：将查询到的当前告警、历史告警或通知信息导出为.csv格式的文件，作为系统维护及故障分析的依据。\n",
      "\n",
      "4. 告警实时监控：EMSPlus提供实时监控功能，帮助用户及时了解系统发生的故障或变化，并在故障恢复时将当前告警清除，并转移到历史告警数据库中。\n",
      "\n",
      "5. 设置过滤规则：如果需要，可以创建过滤规则，暂时过滤掉某些异常事件。\n",
      "\n",
      "6. 使用告警箱：通过声音、警示灯、邮件、短信等方式通知维护人员处理告警。\n",
      "-------------\n",
      "AMF网元的采集方式包括以下几种：\n",
      "\n",
      "  1. 采集告警信息\n",
      "  2. 采集性能统计\n",
      "  3. 采集日志信息\n",
      "  4. 采集网元配置\n",
      "  5. 采集一键收集信息\n",
      "-------------\n",
      "EMSPlus告警种类包括以下几种：\n",
      "\n",
      "  * 当前告警：指当前发生的告警。\n",
      "  * 历史告警：曾经发生过，但目前已经恢复的告警。\n",
      "  * 通知：一些操作或异常提示信息。\n",
      "-------------\n"
     ]
    }
   ],
   "source": [
    "for r in results:\n",
    "    print(r.text)\n",
    "    print('-------------')"
   ]
  },
  {
   "cell_type": "code",
   "execution_count": null,
   "id": "b96df948-2256-4fcd-88c9-546ec5ed0d4b",
   "metadata": {
    "execution": {
     "iopub.execute_input": "2024-06-15T18:11:14.557693Z",
     "iopub.status.busy": "2024-06-15T18:11:14.557363Z"
    }
   },
   "outputs": [
    {
     "name": "stdout",
     "output_type": "stream",
     "text": [
      "Start generating answers...\n"
     ]
    },
    {
     "name": "stderr",
     "output_type": "stream",
     "text": [
      " 17%|█▋        | 18/103 [02:00<06:03,  4.28s/it]"
     ]
    }
   ],
   "source": [
    "\n",
    "# 生成答案\n",
    "print(\"Start generating answers...\")\n",
    "\n",
    "results = []\n",
    "for query in tqdm(queries, total=len(queries)):\n",
    "    result = await generation_with_knowledge_retrieval(\n",
    "        query[\"query\"], retriever, llm, qa_template=QA_TEMPLATE_2,\n",
    "    )\n",
    "    results.append(result)\n",
    "\n",
    "# 处理结果\n",
    "save_answers(queries, results, \"submit_result_large.jsonl\")"
   ]
  },
  {
   "cell_type": "code",
   "execution_count": null,
   "id": "f2175745-7ffd-452d-b22d-b3b5b80af2d7",
   "metadata": {},
   "outputs": [],
   "source": []
  }
 ],
 "metadata": {
  "kernelspec": {
   "display_name": "Python 3 (ipykernel)",
   "language": "python",
   "name": "python3"
  },
  "language_info": {
   "codemirror_mode": {
    "name": "ipython",
    "version": 3
   },
   "file_extension": ".py",
   "mimetype": "text/x-python",
   "name": "python",
   "nbconvert_exporter": "python",
   "pygments_lexer": "ipython3",
   "version": "3.10.14"
  }
 },
 "nbformat": 4,
 "nbformat_minor": 5
}
