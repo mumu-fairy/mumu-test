{
 "cells": [
  {
   "cell_type": "code",
   "execution_count": 1,
   "id": "2238dfc8-5196-402d-befb-14ee343eb523",
   "metadata": {
    "ExecutionIndicator": {
     "show": true
    },
    "execution": {
     "iopub.execute_input": "2024-06-15T16:25:58.553793Z",
     "iopub.status.busy": "2024-06-15T16:25:58.553316Z",
     "iopub.status.idle": "2024-06-15T16:26:03.768396Z",
     "shell.execute_reply": "2024-06-15T16:26:03.767740Z",
     "shell.execute_reply.started": "2024-06-15T16:25:58.553754Z"
    },
    "tags": []
   },
   "outputs": [
    {
     "name": "stderr",
     "output_type": "stream",
     "text": [
      "/usr/local/lib/python3.10/site-packages/tqdm/auto.py:21: TqdmWarning: IProgress not found. Please update jupyter and ipywidgets. See https://ipywidgets.readthedocs.io/en/stable/user_install.html\n",
      "  from .autonotebook import tqdm as notebook_tqdm\n"
     ]
    },
    {
     "data": {
      "text/plain": [
       "OrderedDict([('COLLECTION_NAME', 'aiops24'),\n",
       "             ('VECTOR_SIZE', '512'),\n",
       "             ('GLM_KEY', 'ba7d0d7930f621b8f9d2036deb55207a.En856p5uJTTXbxQv')])"
      ]
     },
     "execution_count": 1,
     "metadata": {},
     "output_type": "execute_result"
    }
   ],
   "source": [
    "# import asyncio\n",
    "%load_ext autoreload\n",
    "%autoreload 2\n",
    "\n",
    "from dotenv import dotenv_values\n",
    "from llama_index.core import Settings\n",
    "from llama_index.embeddings.huggingface import HuggingFaceEmbedding\n",
    "from llama_index.legacy.llms import OpenAILike as OpenAI\n",
    "from qdrant_client import models\n",
    "from tqdm.asyncio import tqdm\n",
    "\n",
    "from pipeline.ingestion import build_pipeline, build_vector_store, read_data\n",
    "from pipeline.qa import read_jsonl, save_answers\n",
    "from pipeline.rag import QdrantRetriever, generation_with_knowledge_retrieval\n",
    "\n",
    "\n",
    "config = dotenv_values(\".env\")\n",
    "# config = {'COLLECTION_NAME': 'aiops24_large',\n",
    "#           'VECTOR_SIZE': 768,\n",
    "#           'GLM_KEY': 'ba7d0d7930f621b8f9d2036deb55207a.En856p5uJTTXbxQv'\n",
    "# }\n",
    "config\n"
   ]
  },
  {
   "cell_type": "code",
   "execution_count": 3,
   "id": "9a51857d-c930-43db-aebc-86eb5c8e3295",
   "metadata": {
    "ExecutionIndicator": {
     "show": true
    },
    "execution": {
     "iopub.execute_input": "2024-06-15T16:26:57.628469Z",
     "iopub.status.busy": "2024-06-15T16:26:57.628083Z",
     "iopub.status.idle": "2024-06-15T16:26:57.986269Z",
     "shell.execute_reply": "2024-06-15T16:26:57.985337Z",
     "shell.execute_reply.started": "2024-06-15T16:26:57.628447Z"
    },
    "tags": []
   },
   "outputs": [
    {
     "name": "stdout",
     "output_type": "stream",
     "text": [
      "0\n"
     ]
    }
   ],
   "source": [
    "\n",
    "# 初始化 LLM 嵌入模型 和 Reranker\n",
    "llm = OpenAI(\n",
    "    api_key=config[\"GLM_KEY\"],\n",
    "    model=\"glm-4\",\n",
    "    api_base=\"https://open.bigmodel.cn/api/paas/v4/\",\n",
    "    is_chat_model=True,\n",
    ")\n",
    "embeding = HuggingFaceEmbedding(\n",
    "    model_name=\"BAAI/bge-small-zh-v1.5\",\n",
    "    # model_name=\"BAAI/bge-big-zh-v1.5\",\n",
    "    # model_name=\"BAAI/bge-large-zh-v1.5\",\n",
    "    cache_folder=\"./\",\n",
    "    embed_batch_size=128,\n",
    ")\n",
    "Settings.embed_model = embeding\n",
    "\n",
    "# 初始化 数据ingestion pipeline 和 vector store\n",
    "client, vector_store = await build_vector_store(config, reindex=False)\n",
    "\n",
    "collection_info = await client.get_collection(\n",
    "    config[\"COLLECTION_NAME\"] or \"aiops24\"\n",
    ")\n",
    "\n",
    "print(collection_info.points_count)"
   ]
  },
  {
   "cell_type": "code",
   "execution_count": 2,
   "id": "bf3b80f7-9f82-4a3b-9cc4-6e57e473f4ba",
   "metadata": {
    "execution": {
     "iopub.execute_input": "2024-06-15T14:14:53.636182Z",
     "iopub.status.busy": "2024-06-15T14:14:53.635495Z",
     "iopub.status.idle": "2024-06-15T14:14:53.640390Z",
     "shell.execute_reply": "2024-06-15T14:14:53.639499Z",
     "shell.execute_reply.started": "2024-06-15T14:14:53.636140Z"
    }
   },
   "outputs": [
    {
     "name": "stdout",
     "output_type": "stream",
     "text": [
      "0\n"
     ]
    }
   ],
   "source": [
    "print(collection_info.points_count)"
   ]
  },
  {
   "cell_type": "code",
   "execution_count": 7,
   "id": "73ebbdab-bc55-432a-a118-3636d8082559",
   "metadata": {
    "ExecutionIndicator": {
     "show": true
    },
    "execution": {
     "iopub.execute_input": "2024-06-15T16:29:07.194140Z",
     "iopub.status.busy": "2024-06-15T16:29:07.193776Z",
     "iopub.status.idle": "2024-06-15T16:35:15.181509Z",
     "shell.execute_reply": "2024-06-15T16:35:15.180780Z",
     "shell.execute_reply.started": "2024-06-15T16:29:07.194120Z"
    },
    "tags": []
   },
   "outputs": [
    {
     "name": "stderr",
     "output_type": "stream",
     "text": [
      "Parsing nodes: 100%|██████████| 42139/42139 [00:18<00:00, 2288.18it/s] \n",
      "Generating embeddings: 100%|██████████| 244/244 [04:12<00:00,  1.03s/it]  \n"
     ]
    },
    {
     "name": "stdout",
     "output_type": "stream",
     "text": [
      "42139\n"
     ]
    }
   ],
   "source": [
    "\n",
    "if collection_info.points_count == 0:\n",
    "    data = read_data(\"data\")\n",
    "    pipeline = build_pipeline(llm, embeding, vector_store=vector_store)\n",
    "    # 暂时停止实时索引\n",
    "    await client.update_collection(\n",
    "        collection_name=config[\"COLLECTION_NAME\"] or \"aiops24\",\n",
    "        optimizer_config=models.OptimizersConfigDiff(indexing_threshold=0),\n",
    "    )\n",
    "    await pipeline.arun(documents=data, show_progress=True, num_workers=1)\n",
    "    # 恢复实时索引\n",
    "    await client.update_collection(\n",
    "        collection_name=config[\"COLLECTION_NAME\"] or \"aiops24\",\n",
    "        optimizer_config=models.OptimizersConfigDiff(indexing_threshold=20000),\n",
    "    )\n",
    "    print(len(data))\n"
   ]
  },
  {
   "cell_type": "code",
   "execution_count": 8,
   "id": "58a34871-637a-46dc-a0a8-66c860ddfd04",
   "metadata": {
    "execution": {
     "iopub.execute_input": "2024-06-15T16:40:50.345658Z",
     "iopub.status.busy": "2024-06-15T16:40:50.345268Z",
     "iopub.status.idle": "2024-06-15T16:40:50.385325Z",
     "shell.execute_reply": "2024-06-15T16:40:50.384595Z",
     "shell.execute_reply.started": "2024-06-15T16:40:50.345637Z"
    },
    "tags": []
   },
   "outputs": [
    {
     "name": "stdout",
     "output_type": "stream",
     "text": [
      "103\n"
     ]
    }
   ],
   "source": [
    "\n",
    "retriever = QdrantRetriever(vector_store, embeding, similarity_top_k=3)\n",
    "\n",
    "queries = read_jsonl(\"question.jsonl\")\n",
    "\n",
    "print(len(queries))"
   ]
  },
  {
   "cell_type": "code",
   "execution_count": 5,
   "id": "fa07fbc9-9b54-4f1e-a3b1-aa789f3e9049",
   "metadata": {
    "ExecutionIndicator": {
     "show": false
    },
    "execution": {
     "iopub.execute_input": "2024-06-15T16:28:09.042027Z",
     "iopub.status.busy": "2024-06-15T16:28:09.041602Z",
     "iopub.status.idle": "2024-06-15T16:28:09.085033Z",
     "shell.execute_reply": "2024-06-15T16:28:09.084252Z",
     "shell.execute_reply.started": "2024-06-15T16:28:09.042004Z"
    },
    "tags": []
   },
   "outputs": [
    {
     "data": {
      "text/plain": [
       "<pipeline.rag.QdrantRetriever at 0x7f9ea1440430>"
      ]
     },
     "execution_count": 5,
     "metadata": {},
     "output_type": "execute_result"
    }
   ],
   "source": [
    "retriever"
   ]
  },
  {
   "cell_type": "code",
   "execution_count": 74,
   "id": "2cd8bd08-d74f-4c68-8821-502b2b8e2d3c",
   "metadata": {
    "ExecutionIndicator": {
     "show": true
    },
    "execution": {
     "iopub.execute_input": "2024-06-15T18:02:54.164677Z",
     "iopub.status.busy": "2024-06-15T18:02:54.164340Z",
     "iopub.status.idle": "2024-06-15T18:03:02.753765Z",
     "shell.execute_reply": "2024-06-15T18:03:02.752998Z",
     "shell.execute_reply.started": "2024-06-15T18:02:54.164657Z"
    },
    "tags": []
   },
   "outputs": [
    {
     "name": "stdout",
     "output_type": "stream",
     "text": [
      "{'id': 2, 'query': 'ZXUN RCP部署成功后，各个虚机个数都是最少个数，是否可以一次性扩容完成？有哪些注意事项？', 'document': 'rcp'} {'director'}\n",
      "{'id': 3, 'query': '如何排查PCF侧建立专载失败，发起Rx-ASR释放问题？', 'document': 'rcp'} {'umac'}\n",
      "{'id': 8, 'query': 'RCP在IaaS架构下有哪些GSU虚机？', 'document': 'rcp'} {'umac'}\n",
      "{'id': 9, 'query': 'RCP如何将VoNR呼叫的Rx会话绑定到对应的N7会话？', 'document': 'rcp'} {'umac'}\n",
      "{'id': 14, 'query': 'EPS回落流程中，PCF向SBC上报几次用户位置吗，分别使用什么事件？', 'document': 'rcp'} {'umac'}\n",
      "{'id': 21, 'query': 'RCP怎样实现语音会话隔离？', 'document': 'rcp'} {'umac'}\n",
      "{'id': 23, 'query': 'RCP和SPR之间有哪些接口？分别实现什么功能？', 'document': 'rcp'} {'umac'}\n",
      "{'id': 25, 'query': 'Director性能数据最长可以保存多久？', 'document': 'director'} {'rcp'}\n",
      "{'id': 26, 'query': 'PCF作为服务端时，AMF和SMF一般根据什么发现PCF', 'document': 'rcp'} {'umac'}\n",
      "{'id': 28, 'query': 'PCF与SMF对接时，一般需要配置哪些数据？', 'document': 'rcp'} {'umac'}\n",
      "{'id': 30, 'query': 'Daisyseed安装软件从哪里获取', 'document': 'director'} {'umac'}\n",
      "{'id': 35, 'query': '如何选择合适的信令跟踪', 'document': 'rcp'} {'umac'}\n",
      "{'id': 36, 'query': '外部系统想要采集Director的性能数据，可以怎么解决？', 'document': 'director'} {'umac'}\n",
      "{'id': 38, 'query': 'RCP如何识别紧急呼叫？', 'document': 'rcp'} {'umac'}\n",
      "{'id': 42, 'query': 'PCF使用同一个版本，在同一个环境下部署的多套PCF网元，是否可以使用同一个license申请文件申请？', 'document': 'rcp'} {'emsplus'}\n",
      "{'id': 49, 'query': 'N7接口的IMSI、MSISDN、IMEISV分别在哪个参数中传递', 'document': 'rcp'} {'umac'}\n",
      "{'id': 53, 'query': '故障来源有哪些？', 'document': 'emsplus'} {'umac'}\n",
      "{'id': 57, 'query': 'NFS是能够独立完成某个具体功能的软件实体，NFS包括那几类', 'document': 'umac'} {'rcp'}\n",
      "{'id': 61, 'query': '处理故障需要遵循哪些操作思路？', 'document': 'umac'} {'director'}\n",
      "{'id': 64, 'query': '如何实现对MU指定需要存储的字段数据', 'document': 'emsplus'} {'umac'}\n",
      "{'id': 65, 'query': '如何查看虚机的内存占用？', 'document': 'emsplus'} {'rcp'}\n",
      "{'id': 73, 'query': '故障类别有哪些？', 'document': 'emsplus'} {'umac'}\n",
      "{'id': 75, 'query': 'License文件过期影响业务怎么办？', 'document': 'emsplus'} {'umac'}\n",
      "{'id': 76, 'query': '如何查询MDS节点IP地址？', 'document': 'emsplus'} {'rcp'}\n",
      "{'id': 77, 'query': '不同类型的SC间是如何发现彼此的？', 'document': 'umac'} {'rcp'}\n",
      "{'id': 80, 'query': '开启全量日志上报需要开启license项是哪个？', 'document': 'umac'} {'rcp'}\n",
      "{'id': 82, 'query': 'CPU使用率过高的影响有哪些？', 'document': 'emsplus'} {'director'}\n",
      "{'id': 91, 'query': '如何创建定时任务？', 'document': 'emsplus'} {'umac'}\n",
      "{'id': 101, 'query': '如何查询指定用户详单？', 'document': 'emsplus'} {'rcp'}\n"
     ]
    },
    {
     "data": {
      "text/plain": [
       "(74, 29)"
      ]
     },
     "execution_count": 74,
     "metadata": {},
     "output_type": "execute_result"
    }
   ],
   "source": [
    "from llama_index.core import QueryBundle\n",
    "    \n",
    "\n",
    "def find_cate(node):\n",
    "    cates = set()\n",
    "    for k, v in node.relationships.items():\n",
    "        if 'file_path' in v.metadata:\n",
    "            fp = v.metadata['file_path']\n",
    "            cate = fp.replace('/mnt/workspace/aiops24-RAG-demo/demo/data/', '').split('/')[0]\n",
    "            # print(cate)\n",
    "            cates.add(cate)\n",
    "    # print(cates)\n",
    "    return list(cates)\n",
    "\n",
    "hit = 0\n",
    "nsame = 0\n",
    "for query in queries:\n",
    "    \n",
    "    qd = query['document']\n",
    "    query_str = query['query']\n",
    "    query_bundle = QueryBundle(query_str=query_str)\n",
    "    node_with_scores = await retriever.aretrieve(query_bundle)\n",
    "    rds = set()\n",
    "    for n in node_with_scores[0:1]:\n",
    "        ds = find_cate(n.node)\n",
    "        for d in ds:\n",
    "            rds.add(d)\n",
    "    \n",
    "    if qd in rds:\n",
    "        hit += 1\n",
    "    \n",
    "    if qd != ','.join(rds):\n",
    "        print(query, rds)\n",
    "        nsame += 1\n",
    "    \n",
    "hit, nsame\n"
   ]
  },
  {
   "cell_type": "code",
   "execution_count": 77,
   "id": "6495a078-361b-4717-b5b4-c3d2bec979ce",
   "metadata": {
    "ExecutionIndicator": {
     "show": true
    },
    "execution": {
     "iopub.execute_input": "2024-06-15T18:09:04.793160Z",
     "iopub.status.busy": "2024-06-15T18:09:04.792831Z",
     "iopub.status.idle": "2024-06-15T18:09:04.897599Z",
     "shell.execute_reply": "2024-06-15T18:09:04.896905Z",
     "shell.execute_reply.started": "2024-06-15T18:09:04.793140Z"
    },
    "tags": []
   },
   "outputs": [
    {
     "name": "stdout",
     "output_type": "stream",
     "text": [
      "103\n",
      "    上下文信息如下：\n",
      "    ----------\n",
      "    {context_str}\n",
      "    ----------\n",
      "    请你首选基于上下文信息而不是自己的知识，回答以下问题，可以分点作答，如果上下文信息没有相关知识，但你确实知道比较准确的答案，可以基于自己的知识进行回答，不要解释上下文中是否有，也不要复述上下文信息，尽量直接回答问题：\n",
      "    {query_str}\n",
      "\n",
      "    回答：    \n",
      "Start generating answers...\n",
      "{'id': 18, 'query': 'RCP包含哪些数据存储类服务？', 'document': 'rcp'}\n",
      "retrieved:\n",
      "[rcp]:# 数据服务通信配置\n",
      "[rcp]:# 数据服务通信配置\n",
      "[umac]:特性描述\n",
      "[NodeWithScore(node=TextNode(id_='1b6d3612-b557-4988-92a8-f2d7f4bf6b6f', embedding=None, metadata={'file_path': 'Ncudr_SystemManagement/zh-cn/tree/1.txt', 'file_name': '1.txt', 'file_type': 'text/plain', 'file_size': 889, 'creation_date': '2024-06-15', 'last_modified_date': '2024-03-12', 'document_title': '# 数据服务通信配置'}, excluded_embed_metadata_keys=['file_name', 'file_type', 'file_size', 'creation_date', 'last_modified_date', 'last_accessed_date'], excluded_llm_metadata_keys=['file_name', 'file_type', 'file_size', 'creation_date', 'last_modified_date', 'last_accessed_date'], relationships={<NodeRelationship.SOURCE: '1'>: RelatedNodeInfo(node_id='6538fa39-f2ac-440f-bd2c-f537d98584e6', node_type=<ObjectType.DOCUMENT: '4'>, metadata={'file_path': '/mnt/workspace/aiops24-RAG-demo/demo/data/rcp/Ncudr_SystemManagement/zh-cn/tree/1.txt', 'file_name': '1.txt', 'file_type': 'text/plain', 'file_size': 889, 'creation_date': '2024-06-15', 'last_modified_date': '2024-03-12'}, hash='e78f382ffa05d482b553c18be88f55fcde2ef7791c540977803ab799d79cafad'), <NodeRelationship.PREVIOUS: '2'>: RelatedNodeInfo(node_id='ae9aecf6-7886-47bb-9b80-116299b46405', node_type=<ObjectType.TEXT: '1'>, metadata={'file_path': '/mnt/workspace/aiops24-RAG-demo/demo/data/rcp/Ncudr_SystemManagement/zh-cn/mml/1190618.txt', 'file_name': '1190618.txt', 'file_type': 'text/plain', 'file_size': 1424, 'creation_date': '2024-06-15', 'last_modified_date': '2024-03-12'}, hash='d124a2a49ef897124cfde93bbee54bfb6bde8639461b881bd891bcea3d3c4be3'), <NodeRelationship.NEXT: '3'>: RelatedNodeInfo(node_id='e1be5bd4-eff4-49a8-a6bf-8eea1da6fa3f', node_type=<ObjectType.TEXT: '1'>, metadata={}, hash='834d3e2a98b12a3c705661343d2b83195349ba9c492b0f96eb494c36f38cfa5a')}, text='# 数据服务通信配置\\n\\n## 背景知识\\n\\n数据服务通讯配置适用于UDR和UDSF。UDR存储结构化数据，UDSF存储非结构化数据，UDR和UDSF既可以以NFS形式部署在业务NF中，也可以以NF形式独立部署并被多个业务NF共享。\\n\\nUDR和UDSF支持容灾部署，数据可以在2个或更多UDR或UDSF之间复制。\\n\\nUDR支持第三方应用访问结构化数据，如第三方应用通过LDAP接口访问USPP数据。\\n\\nUDR和UDSF独立部署、容灾部署以及第三方应用访问UDR，都需要节点和其他NF的节点或第三方应用通讯。\\n\\n## 功能说明\\n\\n本功能用于管理NF间的通讯配置：\\n\\n  * 业务NF和独立部署的UDR、UDSF之间\\n  * 容灾部署的UDR之间\\n  * 容灾部署的UDSF之间\\n  * 第三方应用和UDR之间\\n\\n\\n\\n## 子主题：\\n\\n  * 网关通信配置\\n  * NF标识配置\\n  * CGW过负荷告警阈值配置', start_char_idx=0, end_char_idx=402, text_template='[Excerpt from document]\\n{metadata_str}\\nExcerpt:\\n-----\\n{content}\\n-----\\n', metadata_template='{key}: {value}', metadata_seperator='\\n'), score=0.6077510455404194), NodeWithScore(node=TextNode(id_='91e86e8a-94e3-4552-8fc2-ae2b3b4c94ec', embedding=None, metadata={'file_path': 'Ncudr_AccessManagement/zh-cn/tree/1.txt', 'file_name': '1.txt', 'file_type': 'text/plain', 'file_size': 889, 'creation_date': '2024-06-15', 'last_modified_date': '2024-03-12', 'document_title': '# 数据服务通信配置'}, excluded_embed_metadata_keys=['file_name', 'file_type', 'file_size', 'creation_date', 'last_modified_date', 'last_accessed_date'], excluded_llm_metadata_keys=['file_name', 'file_type', 'file_size', 'creation_date', 'last_modified_date', 'last_accessed_date'], relationships={<NodeRelationship.SOURCE: '1'>: RelatedNodeInfo(node_id='165ea786-64e0-4347-b097-91a9e74b44ff', node_type=<ObjectType.DOCUMENT: '4'>, metadata={'file_path': '/mnt/workspace/aiops24-RAG-demo/demo/data/rcp/Ncudr_AccessManagement/zh-cn/tree/1.txt', 'file_name': '1.txt', 'file_type': 'text/plain', 'file_size': 889, 'creation_date': '2024-06-15', 'last_modified_date': '2024-03-12'}, hash='dee81b1c88a7e598b97a277b378a83675daa8d367598afa82ce11f940f6ae2ba'), <NodeRelationship.PREVIOUS: '2'>: RelatedNodeInfo(node_id='da6f43fe-1d9c-4d7e-be79-be1c520d02a9', node_type=<ObjectType.TEXT: '1'>, metadata={'file_path': '/mnt/workspace/aiops24-RAG-demo/demo/data/rcp/Ncudr_AccessManagement/zh-cn/mml/1172103.txt', 'file_name': '1172103.txt', 'file_type': 'text/plain', 'file_size': 2040, 'creation_date': '2024-06-15', 'last_modified_date': '2024-03-12'}, hash='57c2d8e280120373bd86478b6b5c23507908f7c2547eaf45ac49283a28ce2d48'), <NodeRelationship.NEXT: '3'>: RelatedNodeInfo(node_id='309e0fa7-b89c-4f85-b9b4-c36ea6c920b5', node_type=<ObjectType.TEXT: '1'>, metadata={}, hash='834d3e2a98b12a3c705661343d2b83195349ba9c492b0f96eb494c36f38cfa5a')}, text='# 数据服务通信配置\\n\\n## 背景知识\\n\\n数据服务通讯配置适用于UDR和UDSF。UDR存储结构化数据，UDSF存储非结构化数据，UDR和UDSF既可以以NFS形式部署在业务NF中，也可以以NF形式独立部署并被多个业务NF共享。\\n\\nUDR和UDSF支持容灾部署，数据可以在2个或更多UDR或UDSF之间复制。\\n\\nUDR支持第三方应用访问结构化数据，如第三方应用通过LDAP接口访问USPP数据。\\n\\nUDR和UDSF独立部署、容灾部署以及第三方应用访问UDR，都需要节点和其他NF的节点或第三方应用通讯。\\n\\n## 功能说明\\n\\n本功能用于管理NF间的通讯配置：\\n\\n  * 业务NF和独立部署的UDR、UDSF之间\\n  * 容灾部署的UDR之间\\n  * 容灾部署的UDSF之间\\n  * 第三方应用和UDR之间\\n\\n\\n\\n## 子主题：\\n\\n  * 网关通信配置\\n  * NF标识配置\\n  * CGW过负荷告警阈值配置', start_char_idx=0, end_char_idx=402, text_template='[Excerpt from document]\\n{metadata_str}\\nExcerpt:\\n-----\\n{content}\\n-----\\n', metadata_template='{key}: {value}', metadata_seperator='\\n'), score=0.6060377385432946), NodeWithScore(node=TextNode(id_='e17ba035-3918-49a0-b2ae-737c305b8d9c', embedding=None, metadata={'file_path': 'data/umac/ZUF-76-01 系统架构/1565265721741.txt', 'file_name': '1565265721741.txt', 'file_type': 'text/plain', 'file_size': 15450, 'creation_date': '2024-06-15', 'last_modified_date': '2024-05-11', 'document_title': '特性描述'}, excluded_embed_metadata_keys=['file_name', 'file_type', 'file_size', 'creation_date', 'last_modified_date', 'last_accessed_date'], excluded_llm_metadata_keys=['file_name', 'file_type', 'file_size', 'creation_date', 'last_modified_date', 'last_accessed_date'], relationships={<NodeRelationship.SOURCE: '1'>: RelatedNodeInfo(node_id='282dff3b-61fc-4fa1-bbf9-f7a6a0157734', node_type=<ObjectType.DOCUMENT: '4'>, metadata={'file_path': '/mnt/workspace/aiops24-RAG-demo/demo/data/umac/ZUF-76-01 系统架构/1565265721741.txt', 'file_name': '1565265721741.txt', 'file_type': 'text/plain', 'file_size': 15450, 'creation_date': '2024-06-15', 'last_modified_date': '2024-05-11'}, hash='7aebc9dd2d43623d3e187e8db219b9fa8d7b2d8a22852cbe7c32ebf48983b0b2'), <NodeRelationship.PREVIOUS: '2'>: RelatedNodeInfo(node_id='cc951dd0-a373-4efc-8ead-dcb5a07c5597', node_type=<ObjectType.TEXT: '1'>, metadata={'file_path': '/mnt/workspace/aiops24-RAG-demo/demo/data/umac/ZUF-76-01 系统架构/1565265721741.txt', 'file_name': '1565265721741.txt', 'file_type': 'text/plain', 'file_size': 15450, 'creation_date': '2024-06-15', 'last_modified_date': '2024-05-11'}, hash='7e0af5dd0452dd22feb7f89d037a28d43a216b7b9ce4460cc8909838308527b1'), <NodeRelationship.NEXT: '3'>: RelatedNodeInfo(node_id='126d16eb-505b-43f4-84e6-60da23c8e6f0', node_type=<ObjectType.TEXT: '1'>, metadata={}, hash='85d2bd41b108339ee224bce8ab57798d3b1ddb072656e13bf273b85f72ebf5d5')}, text='CUDR（UDSF）可存储业务NF的数据。业务NF通过统一或通用的数据访问接口，实时从CUDR（UDSF）读写数据，实现业务和数据解耦和隔离。\\n\\nCUDR（UDSF）支持严格的个人数据保护措施。通过严格的操作权限控制操作员的访问，基于操作界面匿名化、在线数据导出匿名化、离线数据匿名化、数据传输过程加密保护等措施尽力避免个人用户数据泄露。\\n\\n背景知识\\n\\n面对万物互联5G时代多样化、极致通讯的需求，运营商需要构建更敏捷、更灵活的网络。NFV(Network Functions Virtualization, 网络功能虚拟化)/SDN(Software Defined Network, 软件定义网络)等虚拟化技术已经广泛应用到云化核心网中，实现了软硬件分离以及网络控制和转发的分离，降低TCO(Total Cost of Ownership, 总体拥有成本)，但还存在如下挑战：\\n\\n  * 网络弹性不足：\\n\\n核心网各NF各自维护会话上下文数据，网元弹性、缩扩容需消耗较长时间进行迁移和恢复数据，难以实现快速的业务弹性、无损用户体验和加速新业务发布。\\n\\n  * 数据孤岛：\\n\\n    * 核心网各NF各自存储数据形成数据孤岛，难以分析和挖掘数据的价值。\\n\\n    * 数据分散维护和管理，增加运维复杂度。\\n\\n\\n\\n\\n通过统一数据层，5GC实现了计算与存储的分离，解决了网络弹性不足及数据孤岛问题，具有如下优势：\\n\\n  * 快速、业务无损的网络弹性：\\n\\n    * 控制类NF组件间无需迁移状态数据，实现秒级弹性。\\n\\n    * 弹性过程中，状态数据不丢失，保证了业务的连续性。\\n\\n  * 统一数据管理，简化运维，资源共享，降低OPEX(Operating Expenditure, 运营性支出)和CAPEX(Capital Expenditure, 资本性支出)：\\n\\n    * 通过共享CUDR（UDSF），减少网络中数据库的数量和种类，降低了OPEX(Operating Expenditure, 运营性支出)和CAPEX(Capital Expenditure, 资本性支出)。\\n\\n    * 业务逻辑无状态，业务处理组件从1+1主备演进为N+K负荷分担，减少了资源冗余。\\n\\n  * 提高系统稳定性：\\n\\n    * 业务逻辑无状态，业务组件支持N+K负荷分担，一个组件故障，其他组件可实时接管。\\n\\n    * 基于分布式存储的会话上下文的数据库，支持本地容灾和地理容灾，提高了可靠性。\\n\\n  * 有利于数据分析和业务创新：\\n\\n    * 数据集中存储，简化数据的采集难度，有利于数据分析。\\n\\n    * 支持多个应用间共享数据，方便业务创新。', start_char_idx=1199, end_char_idx=2322, text_template='[Excerpt from document]\\n{metadata_str}\\nExcerpt:\\n-----\\n{content}\\n-----\\n', metadata_template='{key}: {value}', metadata_seperator='\\n'), score=0.6040467087812282)]\n",
      "------\n"
     ]
    }
   ],
   "source": [
    "retriever = QdrantRetriever(vector_store, embeding, similarity_top_k=3)\n",
    "\n",
    "queries = read_jsonl(\"question.jsonl\")\n",
    "\n",
    "print(len(queries))\n",
    "\n",
    "from custom.template import QA_TEMPLATE, QA_TEMPLATE_2\n",
    "\n",
    "print(QA_TEMPLATE_2)\n",
    "\n",
    "qid = [18]\n",
    "# qid = [8, 9, 14, 17, 18, 20, 21, 23, 37, 72, 74, 92]\n",
    "\n",
    "\n",
    "# 生成答案\n",
    "print(\"Start generating answers...\")\n",
    "\n",
    "results = []\n",
    "for query in queries:\n",
    "    if query['id'] not in qid:\n",
    "        continue\n",
    "    print(query)\n",
    "    result = await generation_with_knowledge_retrieval(\n",
    "        query[\"query\"], retriever, llm, qa_template=QA_TEMPLATE_2, \n",
    "        debug=True,\n",
    "        only_retrieval=True,\n",
    "    )\n",
    "    results.append(result)\n",
    "    \n",
    "\n",
    "\n",
    "# 处理结果\n",
    "# save_answers(queries, results, \"submit_result.jsonl\")\n"
   ]
  },
  {
   "cell_type": "code",
   "execution_count": null,
   "id": "ea92d25c-37a5-44d8-aeb6-dd1bf26e9f44",
   "metadata": {},
   "outputs": [],
   "source": []
  },
  {
   "cell_type": "code",
   "execution_count": 76,
   "id": "b5b1443e-a51a-440c-84a1-5224ff878869",
   "metadata": {
    "ExecutionIndicator": {
     "show": true
    },
    "execution": {
     "iopub.execute_input": "2024-06-15T18:08:37.082796Z",
     "iopub.status.busy": "2024-06-15T18:08:37.082476Z",
     "iopub.status.idle": "2024-06-15T18:08:37.120163Z",
     "shell.execute_reply": "2024-06-15T18:08:37.119575Z",
     "shell.execute_reply.started": "2024-06-15T18:08:37.082777Z"
    },
    "tags": []
   },
   "outputs": [
    {
     "name": "stdout",
     "output_type": "stream",
     "text": [
      "RCP包含的数据存储类服务有UDR（User Data Repository，用户数据仓库）和UDSF（User Data Storage Function，用户数据存储功能）。其中UDR用于存储结构化数据，而UDSF用于存储非结构化数据。\n",
      "-------------\n"
     ]
    }
   ],
   "source": [
    "for r in results:\n",
    "    print(r.text)\n",
    "    print('-------------')\n",
    "    "
   ]
  },
  {
   "cell_type": "code",
   "execution_count": 87,
   "id": "4a46d84b-06d7-4c75-85bd-4792472b53a6",
   "metadata": {
    "ExecutionIndicator": {
     "show": true
    },
    "execution": {
     "iopub.execute_input": "2024-06-15T18:33:31.058281Z",
     "iopub.status.busy": "2024-06-15T18:33:31.057952Z",
     "iopub.status.idle": "2024-06-15T18:43:05.206716Z",
     "shell.execute_reply": "2024-06-15T18:43:05.206241Z",
     "shell.execute_reply.started": "2024-06-15T18:33:31.058262Z"
    },
    "tags": []
   },
   "outputs": [
    {
     "name": "stdout",
     "output_type": "stream",
     "text": [
      "Start generating answers...\n"
     ]
    },
    {
     "name": "stderr",
     "output_type": "stream",
     "text": [
      "100%|██████████| 103/103 [09:34<00:00,  5.57s/it]\n"
     ]
    },
    {
     "data": {
      "text/plain": [
       "103"
      ]
     },
     "execution_count": 87,
     "metadata": {},
     "output_type": "execute_result"
    }
   ],
   "source": [
    "\n",
    "# 生成答案\n",
    "print(\"Start generating answers...\")\n",
    "\n",
    "results = []\n",
    "for query in tqdm(queries, total=len(queries)):\n",
    "    try:\n",
    "        result = await generation_with_knowledge_retrieval(\n",
    "            query[\"query\"], retriever, llm, qa_template=QA_TEMPLATE_2,\n",
    "        )\n",
    "    except:\n",
    "        result = None\n",
    "        print(f'except {query}')\n",
    "    results.append(result)\n",
    "\n",
    "len(results)\n",
    "\n",
    "# 处理结果\n",
    "# save_answers(queries, results, \"submit_result_small.jsonl\")\n"
   ]
  },
  {
   "cell_type": "code",
   "execution_count": 89,
   "id": "6a7438e5-fbff-4bd7-aefe-0578c61e5018",
   "metadata": {
    "ExecutionIndicator": {
     "show": true
    },
    "execution": {
     "iopub.execute_input": "2024-06-15T18:44:29.019584Z",
     "iopub.status.busy": "2024-06-15T18:44:29.019262Z",
     "iopub.status.idle": "2024-06-15T18:44:29.063279Z",
     "shell.execute_reply": "2024-06-15T18:44:29.062667Z",
     "shell.execute_reply.started": "2024-06-15T18:44:29.019565Z"
    },
    "tags": []
   },
   "outputs": [
    {
     "name": "stdout",
     "output_type": "stream",
     "text": [
      "103\n"
     ]
    }
   ],
   "source": [
    "import jsonlines\n",
    "\n",
    "def read_jsonl(path):\n",
    "    content = []\n",
    "    with jsonlines.open(path, \"r\") as json_file:\n",
    "        for obj in json_file.iter(type=dict, skip_invalid=True):\n",
    "            content.append(obj)\n",
    "    return content\n",
    "\n",
    "\n",
    "def save_answers(\n",
    "    queries, results, base_res, path: str = \"data/answers.jsonl\"\n",
    "):\n",
    "    answers = []\n",
    "    for qi, (query, result) in enumerate(zip(queries, results)):\n",
    "        if result is not None:\n",
    "            answers.append(\n",
    "                {\"id\": query[\"id\"], \"query\": query[\"query\"], \"answer\": result.text}\n",
    "            )\n",
    "        else:\n",
    "            answers.append(\n",
    "                {\"id\": query[\"id\"], \"query\": query[\"query\"], \"answer\": base_res[qi]['answer']}\n",
    "            )\n",
    "            print(f'{qi} {query} no res, use base res')\n",
    "            print(base_res[qi]['answer'])\n",
    "\n",
    "    # use jsonlines to save the answers\n",
    "    def write_jsonl(path, content):\n",
    "        with jsonlines.open(path, \"w\") as json_file:\n",
    "            json_file.write_all(content)\n",
    "\n",
    "    # 保存答案到 data/answers.jsonl\n",
    "    write_jsonl(path, answers)\n",
    "\n",
    "    \n",
    "base_res = read_jsonl('./submit_result_1.jsonl')\n",
    "print(len(base_res))\n",
    "\n",
    "\n",
    "# 处理结果\n",
    "save_answers(queries, results, base_res, \"submit_result_small.jsonl\")"
   ]
  },
  {
   "cell_type": "code",
   "execution_count": 86,
   "id": "eff50ce8-8722-4124-962c-756506d3a7eb",
   "metadata": {
    "ExecutionIndicator": {
     "show": true
    },
    "execution": {
     "iopub.execute_input": "2024-06-15T18:27:16.094448Z",
     "iopub.status.busy": "2024-06-15T18:27:16.094111Z",
     "iopub.status.idle": "2024-06-15T18:27:16.133585Z",
     "shell.execute_reply": "2024-06-15T18:27:16.132896Z",
     "shell.execute_reply.started": "2024-06-15T18:27:16.094429Z"
    },
    "tags": []
   },
   "outputs": [
    {
     "data": {
      "text/plain": [
       "'PCF与NRF对接时，一般需要配置以下数据：\\n\\n1. NRF Client配置：\\n   - 是否启用SBI-GW功能\\n\\n2. NRF服务器分组配置：\\n   - NRF服务器组编号\\n\\n3. NRF服务器节点配置：\\n   - NRF服务器节点编号\\n   - NRF服务器IP地址\\n   - NRF服务器端口\\n   - URI scheme\\n   - API版本\\n   - HTTP客户端模板编号\\n   - 通知时使用的HTTP服务端模板编号\\n   - NRF服务器节点优先级\\n   - 归属的NRF服务器组编号\\n\\n4. NRF服务器策略配置：\\n   - NRF服务器策略编号\\n   - NRF模式\\n   - 主用恢复后启用方式\\n   - 临时重定向次数\\n   - 主备不可用响应码\\n   - 主备间永久重定向响应码\\n   - 是否启用流控功能\\n   - 心跳间隔(秒)\\n   - 负载上报变化量阈值(%)\\n\\n5. NRF服务器模板配置：\\n   - NRF服务器模板编号\\n   - NRF服务器策略编号\\n   - 主用NRF服务器组编号\\n   - 备用NRF服务器组编号\\n   - 检测方法\\n   - 检测使用的NF实例标识\\n   - 异常不可用检测次数\\n   - 可用检测次数\\n   - 检测间隔（秒）\\n   - 服务信息格式类型配置\\n\\n6. NRF服务器模板选择配置：\\n   - NF类型\\n   - NRF服务器模板编号\\n\\n7. 重选配置：\\n   - 目的NF类型\\n   - 链路重选次数\\n   - IP重选次数\\n   - NF重选次数\\n   - 重选等待时长(秒)\\n\\n8. 订阅条件配置：\\n   - ID\\n   - 目的NF类型\\n   - 条件类型\\n   - 条件值\\n   - 事件类型\\n\\n以上数据是基于上下文信息中提供的配置步骤和举例进行总结的。'"
      ]
     },
     "execution_count": 86,
     "metadata": {},
     "output_type": "execute_result"
    }
   ],
   "source": [
    "base_res[0]['answer']"
   ]
  },
  {
   "cell_type": "code",
   "execution_count": 84,
   "id": "5cd0aa1f-937b-486e-93bb-8cd585c33272",
   "metadata": {
    "ExecutionIndicator": {
     "show": true
    },
    "execution": {
     "iopub.execute_input": "2024-06-15T18:24:12.250868Z",
     "iopub.status.busy": "2024-06-15T18:24:12.250437Z",
     "iopub.status.idle": "2024-06-15T18:24:12.294797Z",
     "shell.execute_reply": "2024-06-15T18:24:12.294044Z",
     "shell.execute_reply.started": "2024-06-15T18:24:12.250841Z"
    },
    "tags": []
   },
   "outputs": [
    {
     "data": {
      "text/plain": [
       "{'id': 1,\n",
       " 'query': 'PCF与NRF对接时，一般需要配置哪些数据？',\n",
       " 'answer': 'PCF与NRF对接时，一般需要配置以下数据：\\n\\n1. NRF Client配置：\\n   - 是否启用SBI-GW功能\\n\\n2. NRF服务器分组配置：\\n   - NRF服务器组编号\\n\\n3. NRF服务器节点配置：\\n   - NRF服务器节点编号\\n   - NRF服务器IP地址\\n   - NRF服务器端口\\n   - URI scheme\\n   - API版本\\n   - HTTP客户端模板编号\\n   - 通知时使用的HTTP服务端模板编号\\n   - NRF服务器节点优先级\\n   - 归属的NRF服务器组编号\\n\\n4. NRF服务器策略配置：\\n   - NRF服务器策略编号\\n   - NRF模式\\n   - 主用恢复后启用方式\\n   - 临时重定向次数\\n   - 主备不可用响应码\\n   - 主备间永久重定向响应码\\n   - 是否启用流控功能\\n   - 心跳间隔(秒)\\n   - 负载上报变化量阈值(%)\\n\\n5. NRF服务器模板配置：\\n   - NRF服务器模板编号\\n   - NRF服务器策略编号\\n   - 主用NRF服务器组编号\\n   - 备用NRF服务器组编号\\n   - 检测方法\\n   - 检测使用的NF实例标识\\n   - 异常不可用检测次数\\n   - 可用检测次数\\n   - 检测间隔（秒）\\n   - 服务信息格式类型配置\\n\\n6. NRF服务器模板选择配置：\\n   - NF类型\\n   - NRF服务器模板编号\\n\\n7. 重选配置：\\n   - 目的NF类型\\n   - 链路重选次数\\n   - IP重选次数\\n   - NF重选次数\\n   - 重选等待时长(秒)\\n\\n8. 订阅条件配置：\\n   - ID\\n   - 目的NF类型\\n   - 条件类型\\n   - 条件值\\n   - 事件类型\\n\\n以上数据是基于上下文信息中提供的配置步骤和举例进行总结的。'}"
      ]
     },
     "execution_count": 84,
     "metadata": {},
     "output_type": "execute_result"
    }
   ],
   "source": [
    "questions[0]"
   ]
  },
  {
   "cell_type": "code",
   "execution_count": 82,
   "id": "6f05a4a0-c25b-4ea3-a43d-9f3fe83bf499",
   "metadata": {
    "ExecutionIndicator": {
     "show": true
    },
    "execution": {
     "iopub.execute_input": "2024-06-15T18:23:37.546765Z",
     "iopub.status.busy": "2024-06-15T18:23:37.546403Z",
     "iopub.status.idle": "2024-06-15T18:23:37.588340Z",
     "shell.execute_reply": "2024-06-15T18:23:37.587708Z",
     "shell.execute_reply.started": "2024-06-15T18:23:37.546743Z"
    },
    "tags": []
   },
   "outputs": [
    {
     "name": "stdout",
     "output_type": "stream",
     "text": [
      "PCF与NRF对接时，一般需要配置以下数据：\n",
      "\n",
      "1. NRF Client配置：\n",
      "   - 是否启用SBI-GW功能\n",
      "\n",
      "2. NRF服务器分组配置：\n",
      "   - NRF服务器组编号\n",
      "\n",
      "3. NRF服务器节点配置：\n",
      "   - NRF服务器节点编号\n",
      "   - NRF服务器IP地址\n",
      "   - NRF服务器端口\n",
      "   - URI scheme\n",
      "   - API版本\n",
      "   - HTTP客户端模板编号\n",
      "   - 通知时使用的HTTP服务端模板编号\n",
      "   - NRF服务器节点优先级\n",
      "   - 归属的NRF服务器组编号\n",
      "\n",
      "4. NRF服务器策略配置：\n",
      "   - NRF服务器策略编号\n",
      "   - NRF模式\n",
      "   - 主用恢复后启用方式\n",
      "   - 临时重定向次数\n",
      "   - 主备不可用响应码\n",
      "   - 主备间永久重定向响应码\n",
      "   - 是否启用流控功能\n",
      "   - 心跳间隔(秒)\n",
      "   - 负载上报变化量阈值(%)\n",
      "\n",
      "5. NRF服务器模板配置：\n",
      "   - NRF服务器模板编号\n",
      "   - NRF服务器策略编号\n",
      "   - 主用NRF服务器组编号\n",
      "   - 备用NRF服务器组编号\n",
      "   - 检测方法\n",
      "   - 检测使用的NF实例标识\n",
      "   - 异常不可用检测次数\n",
      "   - 可用检测次数\n",
      "   - 检测间隔（秒）\n",
      "   - 服务信息格式类型配置\n",
      "\n",
      "6. NRF服务器模板选择配置：\n",
      "   - NF类型\n",
      "   - NRF服务器模板编号\n",
      "\n",
      "7. 重选配置：\n",
      "   - 目的NF类型\n",
      "   - 链路重选次数\n",
      "   - IP重选次数\n",
      "   - NF重选次数\n",
      "   - 重选等待时长(秒)\n",
      "\n",
      "8. 订阅条件配置：\n",
      "   - ID\n",
      "   - 目的NF类型\n",
      "   - 条件类型\n",
      "   - 条件值\n",
      "   - 事件类型\n",
      "\n",
      "以上数据是基于上下文信息中提供的配置步骤和举例进行总结的。\n"
     ]
    }
   ],
   "source": [
    "import jsonlines\n",
    "\n",
    "def read_jsonl(path):\n",
    "    content = []\n",
    "    with jsonlines.open(path, \"r\") as json_file:\n",
    "        for obj in json_file.iter(type=dict, skip_invalid=True):\n",
    "            content.append(obj)\n",
    "    return content\n",
    "\n",
    "questions = read_jsonl('./submit_result_1.jsonl')\n",
    "\n",
    "for q in questions:\n",
    "    print(q['answer'])\n",
    "    \n",
    "    break"
   ]
  },
  {
   "cell_type": "code",
   "execution_count": null,
   "id": "5e210a79-4fc0-4a71-95cc-31097357cd86",
   "metadata": {},
   "outputs": [],
   "source": []
  }
 ],
 "metadata": {
  "kernelspec": {
   "display_name": "Python 3 (ipykernel)",
   "language": "python",
   "name": "python3"
  },
  "language_info": {
   "codemirror_mode": {
    "name": "ipython",
    "version": 3
   },
   "file_extension": ".py",
   "mimetype": "text/x-python",
   "name": "python",
   "nbconvert_exporter": "python",
   "pygments_lexer": "ipython3",
   "version": "3.10.14"
  }
 },
 "nbformat": 4,
 "nbformat_minor": 5
}
